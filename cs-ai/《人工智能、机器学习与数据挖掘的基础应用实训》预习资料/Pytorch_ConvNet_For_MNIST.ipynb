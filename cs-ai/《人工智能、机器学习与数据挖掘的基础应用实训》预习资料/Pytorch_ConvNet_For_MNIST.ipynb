{
 "cells": [
  {
   "cell_type": "markdown",
   "metadata": {},
   "source": [
    "# Using Pytorch Neural Network Class to Classify MNIST\n",
    "\n",
    "##  Dataset Introduction\n",
    "MNIST includes 60,000 28x28 training samples and 10,000 test samples.Many tutorials will start with it, as the \"Hello World\" problem in Machine Learning.So here we will also use MNIST for practice.\n",
    "\n",
    "And we will also build a convolutional neural network from scratch, which can achieve an accuracy of 99%."
   ]
  },
  {
   "cell_type": "code",
   "execution_count": 1,
   "metadata": {
    "scrolled": true
   },
   "outputs": [],
   "source": [
    "import torch\n",
    "import torch.nn as nn\n",
    "import torch.nn.functional as F\n",
    "import torch.optim as optim\n",
    "from torchvision import datasets, transforms, utils\n",
    "import matplotlib.pyplot as plt"
   ]
  },
  {
   "cell_type": "markdown",
   "metadata": {},
   "source": [
    "First, we define some hyperparameters"
   ]
  },
  {
   "cell_type": "code",
   "execution_count": 2,
   "metadata": {},
   "outputs": [],
   "source": [
    "BATCH_SIZE = 512 #batch size = the number of training examples in one forward/backward pass\n",
    "EPOCHS = 10 #an epoch in a neural network is the training of the neural network with all the training data for one cycle\n",
    "DEVICE = torch.device(\"cuda\" if torch.cuda.is_available() else \"cpu\") #Let torch determine whether to use the GPU."
   ]
  },
  {
   "cell_type": "markdown",
   "metadata": {},
   "source": [
    "Because Pytorch contains the MNIST data set, we can use it directly here.\n",
    "\n",
    "If it is executed for the first time, the data folder will be generated and it will take some time to download. If it has been downloaded before, it will not be downloaded again.\n",
    "\n",
    "Since the official has implemented the dataset, DataLoader can be used directly to read the data."
   ]
  },
  {
   "cell_type": "code",
   "execution_count": 3,
   "metadata": {},
   "outputs": [],
   "source": [
    "train_loader = torch.utils.data.DataLoader(\n",
    "        datasets.MNIST('data', train=True, download=True, \n",
    "                       transform=transforms.Compose([\n",
    "                           transforms.ToTensor(),\n",
    "                           transforms.Normalize((0.1307,), (0.3081,))# https://medium.com/nerd-for-tech/overview-of-normalization-techniques-in-deep-learning-e12a79060daf\n",
    "                       ])),# more details at https://pytorch.org/vision/stable/transforms.html\n",
    "        batch_size=BATCH_SIZE, shuffle=True)"
   ]
  },
  {
   "cell_type": "code",
   "execution_count": 4,
   "metadata": {},
   "outputs": [],
   "source": [
    "test_loader = torch.utils.data.DataLoader(\n",
    "        datasets.MNIST('data', train=False, transform=transforms.Compose([\n",
    "                           transforms.ToTensor(),\n",
    "                           transforms.Normalize((0.1307,), (0.3081,))\n",
    "                       ])),\n",
    "        batch_size=BATCH_SIZE, shuffle=False)"
   ]
  },
  {
   "cell_type": "markdown",
   "metadata": {},
   "source": [
    "Let's visualize our dataset first."
   ]
  },
  {
   "cell_type": "code",
   "execution_count": 5,
   "metadata": {},
   "outputs": [
    {
     "name": "stdout",
     "output_type": "stream",
     "text": [
      "image shape:torch.Size([512, 1, 28, 28]), label shape:torch.Size([512])\n",
      "label:6\n"
     ]
    },
    {
     "data": {
      "text/plain": [
       "<matplotlib.image.AxesImage at 0x1670b3f7400>"
      ]
     },
     "execution_count": 5,
     "metadata": {},
     "output_type": "execute_result"
    },
    {
     "data": {
      "image/png": "[encoded data removed]",
      "text/plain": [
       "<Figure size 432x288 with 1 Axes>"
      ]
     },
     "metadata": {
      "needs_background": "light"
     },
     "output_type": "display_data"
    }
   ],
   "source": [
    "image, label = next(iter(train_loader))\n",
    "print(f\"image shape:{image.shape}, label shape:{label.shape}\")\n",
    "print(f\"label:{label[0]}\")\n",
    "plt.imshow(image[0][0], cmap=\"gray\")"
   ]
  },
  {
   "cell_type": "markdown",
   "metadata": {},
   "source": [
    "Next we define a neural network.The network contains two convolutional layers, conv1 and conv2, followed by two linear layers as output, and finally outputs 10 dimensions. We use these 10 dimensions as the identifier of 0-9 to determine which number is recognized.\n",
    "\n",
    "The input and output dimensions of each layer have been marked here as comments."
   ]
  },
  {
   "cell_type": "code",
   "execution_count": 6,
   "metadata": {},
   "outputs": [],
   "source": [
    "class ConvNet(nn.Module):\n",
    "    def __init__(self):\n",
    "        super().__init__()\n",
    "        # 1,28x28\n",
    "        self.conv1 = nn.Conv2d(1,10,5) # 10, 24x24\n",
    "        self.conv2 = nn.Conv2d(10,20,3) # 128, 10x10\n",
    "        self.fc1 = nn.Linear(20*10*10,500)\n",
    "        self.fc2 = nn.Linear(500,10)\n",
    "    def forward(self,x):\n",
    "        #x (batch_size(512), channels(1), height(28), width(28))\n",
    "        batch_size = x.size(0)\n",
    "        out = self.conv1(x) #512x10x24x24\n",
    "        out = F.relu(out)\n",
    "        out = F.max_pool2d(out, 2, 2)  #512x20x12x12\n",
    "        out = self.conv2(out) #512x20x10x10\n",
    "        out = F.relu(out)\n",
    "        out = out.view(batch_size,-1)#512x2000\n",
    "        out = self.fc1(out)#512x500\n",
    "        out = F.relu(out)\n",
    "        out = self.fc2(out)#512x10\n",
    "        out = F.log_softmax(out,dim=1)\n",
    "        return out"
   ]
  },
  {
   "cell_type": "markdown",
   "metadata": {},
   "source": [
    "We instantiate a network and use the .to method to move the network to the GPU after instantiation.\n",
    "\n",
    "We also directly choose Adam."
   ]
  },
  {
   "cell_type": "code",
   "execution_count": 7,
   "metadata": {},
   "outputs": [],
   "source": [
    "model = ConvNet().to(DEVICE)\n",
    "optimizer = optim.Adam(model.parameters()) #more details about Adam at https://machinelearningmastery.com/adam-optimization-algorithm-for-deep-learning/"
   ]
  },
  {
   "cell_type": "markdown",
   "metadata": {},
   "source": [
    "Next define the training function. We encapsulate all training operations into this function."
   ]
  },
  {
   "cell_type": "code",
   "execution_count": 8,
   "metadata": {},
   "outputs": [],
   "source": [
    "def train(model, device, train_loader, optimizer, epoch): # it's equal to the method \"fit\" of scikit-learn\n",
    "    model.train()\n",
    "    for batch_idx, (data, target) in enumerate(train_loader):\n",
    "        data, target = data.to(device), target.to(device)\n",
    "        optimizer.zero_grad()#why need to call zero_grad():https://stackoverflow.com/questions/48001598/why-do-we-need-to-call-zero-grad-in-pytorch\n",
    "        output = model(data)#the output is the prediction\n",
    "        loss = F.nll_loss(output, target)\n",
    "        loss.backward()#equal to the backpropagation\n",
    "        optimizer.step()#update the parameters\n",
    "        if(batch_idx+1)%30 == 0: \n",
    "            print('Train Epoch: {} [{}/{} ({:.0f}%)]\\tLoss: {:.6f}'.format(\n",
    "                epoch, batch_idx * len(data), len(train_loader.dataset),\n",
    "                100. * batch_idx / len(train_loader), loss.item()))"
   ]
  },
  {
   "cell_type": "markdown",
   "metadata": {},
   "source": [
    "The test operation is also encapsulated into a function."
   ]
  },
  {
   "cell_type": "code",
   "execution_count": 9,
   "metadata": {},
   "outputs": [],
   "source": [
    "def test(model, device, test_loader):\n",
    "    model.eval()\n",
    "    test_loss = 0\n",
    "    correct = 0\n",
    "    with torch.no_grad():\n",
    "        for data, target in test_loader:\n",
    "            data, target = data.to(device), target.to(device)\n",
    "            output = model(data)\n",
    "            test_loss += F.nll_loss(output, target, reduction='sum').item() # Add up the losses of a batch\n",
    "            pred = output.max(1, keepdim=True)[1] # Find the index with the greatest probability\n",
    "            correct += pred.eq(target.view_as(pred)).sum().item()\n",
    "\n",
    "    test_loss /= len(test_loader.dataset)\n",
    "    print('\\nTest set: Average loss: {:.4f}, Accuracy: {}/{} ({:.0f}%)\\n'.format(\n",
    "        test_loss, correct, len(test_loader.dataset),\n",
    "        100. * correct / len(test_loader.dataset)))"
   ]
  },
  {
   "cell_type": "markdown",
   "metadata": {},
   "source": [
    "Let's start the training. The benefits of encapsulation are reflected here. Just write two lines."
   ]
  },
  {
   "cell_type": "code",
   "execution_count": 10,
   "metadata": {},
   "outputs": [
    {
     "name": "stdout",
     "output_type": "stream",
     "text": [
      "Train Epoch: 1 [14848/60000 (25%)]\tLoss: 0.430581\n",
      "Train Epoch: 1 [30208/60000 (50%)]\tLoss: 0.252417\n",
      "Train Epoch: 1 [45568/60000 (75%)]\tLoss: 0.159174\n",
      "\n",
      "Test set: Average loss: 0.0863, Accuracy: 9749/10000 (97%)\n",
      "\n",
      "Train Epoch: 2 [14848/60000 (25%)]\tLoss: 0.086607\n",
      "Train Epoch: 2 [30208/60000 (50%)]\tLoss: 0.086694\n",
      "Train Epoch: 2 [45568/60000 (75%)]\tLoss: 0.071649\n",
      "\n",
      "Test set: Average loss: 0.0552, Accuracy: 9828/10000 (98%)\n",
      "\n",
      "Train Epoch: 3 [14848/60000 (25%)]\tLoss: 0.051280\n",
      "Train Epoch: 3 [30208/60000 (50%)]\tLoss: 0.047238\n",
      "Train Epoch: 3 [45568/60000 (75%)]\tLoss: 0.056056\n",
      "\n",
      "Test set: Average loss: 0.0538, Accuracy: 9828/10000 (98%)\n",
      "\n",
      "Train Epoch: 4 [14848/60000 (25%)]\tLoss: 0.037606\n",
      "Train Epoch: 4 [30208/60000 (50%)]\tLoss: 0.059946\n",
      "Train Epoch: 4 [45568/60000 (75%)]\tLoss: 0.024784\n",
      "\n",
      "Test set: Average loss: 0.0438, Accuracy: 9860/10000 (99%)\n",
      "\n",
      "Train Epoch: 5 [14848/60000 (25%)]\tLoss: 0.021791\n",
      "Train Epoch: 5 [30208/60000 (50%)]\tLoss: 0.019826\n",
      "Train Epoch: 5 [45568/60000 (75%)]\tLoss: 0.026461\n",
      "\n",
      "Test set: Average loss: 0.0372, Accuracy: 9878/10000 (99%)\n",
      "\n",
      "Train Epoch: 6 [14848/60000 (25%)]\tLoss: 0.025186\n",
      "Train Epoch: 6 [30208/60000 (50%)]\tLoss: 0.021943\n",
      "Train Epoch: 6 [45568/60000 (75%)]\tLoss: 0.016271\n",
      "\n",
      "Test set: Average loss: 0.0372, Accuracy: 9880/10000 (99%)\n",
      "\n",
      "Train Epoch: 7 [14848/60000 (25%)]\tLoss: 0.031807\n",
      "Train Epoch: 7 [30208/60000 (50%)]\tLoss: 0.033691\n",
      "Train Epoch: 7 [45568/60000 (75%)]\tLoss: 0.015460\n",
      "\n",
      "Test set: Average loss: 0.0317, Accuracy: 9909/10000 (99%)\n",
      "\n",
      "Train Epoch: 8 [14848/60000 (25%)]\tLoss: 0.015948\n",
      "Train Epoch: 8 [30208/60000 (50%)]\tLoss: 0.011563\n",
      "Train Epoch: 8 [45568/60000 (75%)]\tLoss: 0.021807\n",
      "\n",
      "Test set: Average loss: 0.0340, Accuracy: 9900/10000 (99%)\n",
      "\n",
      "Train Epoch: 9 [14848/60000 (25%)]\tLoss: 0.010993\n",
      "Train Epoch: 9 [30208/60000 (50%)]\tLoss: 0.009591\n",
      "Train Epoch: 9 [45568/60000 (75%)]\tLoss: 0.009621\n",
      "\n",
      "Test set: Average loss: 0.0318, Accuracy: 9902/10000 (99%)\n",
      "\n",
      "Train Epoch: 10 [14848/60000 (25%)]\tLoss: 0.012057\n",
      "Train Epoch: 10 [30208/60000 (50%)]\tLoss: 0.013126\n",
      "Train Epoch: 10 [45568/60000 (75%)]\tLoss: 0.010834\n",
      "\n",
      "Test set: Average loss: 0.0378, Accuracy: 9887/10000 (99%)\n",
      "\n"
     ]
    }
   ],
   "source": [
    "for epoch in range(1, EPOCHS + 1):\n",
    "    train(model, DEVICE, train_loader, optimizer, epoch)\n",
    "    test(model, DEVICE, test_loader)"
   ]
  },
  {
   "cell_type": "markdown",
   "metadata": {},
   "source": [
    "Let's take a look at the result, the accuracy is 99%, no problem."
   ]
  },
  {
   "cell_type": "markdown",
   "metadata": {},
   "source": [
    "Finally let’s visualize the correct and incorrect examples."
   ]
  },
  {
   "cell_type": "code",
   "execution_count": 45,
   "metadata": {},
   "outputs": [
    {
     "name": "stdout",
     "output_type": "stream",
     "text": [
      "the correct case:\n",
      "the label of the data image:8\n",
      "the predict of the data image:8\n",
      "the data image:\n"
     ]
    },
    {
     "data": {
      "image/png": "[encoded data removed]",
      "text/plain": [
       "<Figure size 432x288 with 1 Axes>"
      ]
     },
     "metadata": {
      "needs_background": "light"
     },
     "output_type": "display_data"
    }
   ],
   "source": [
    "for data, target in test_loader:\n",
    "    data, target = data.to(DEVICE), target.to(DEVICE)\n",
    "    output = model(data)\n",
    "    pred = output.max(1, keepdim=True)[1]\n",
    "    correct_index = torch.where(torch.squeeze(pred)==target)\n",
    "    if(len(correct_index[0])!=0):\n",
    "        # the correct case\n",
    "        print(f'the correct case:')\n",
    "        print(f'the label of the data image:{target[correct_index[0][0]]}')\n",
    "        print(f'the predict of the data image:{torch.squeeze(pred[correct_index[0][0]])}')\n",
    "        print(f'the data image:')\n",
    "        plt.imshow(data[correct_index[0][0]].cpu().reshape(28,28), cmap=plt.cm.gray_r)\n",
    "        break"
   ]
  },
  {
   "cell_type": "code",
   "execution_count": 47,
   "metadata": {},
   "outputs": [
    {
     "name": "stdout",
     "output_type": "stream",
     "text": [
      "the incorrect case:\n",
      "the label of the data image:9\n",
      "the predict of the data image:7\n",
      "the data image:\n"
     ]
    },
    {
     "data": {
      "image/png": "[encoded data removed]",
      "text/plain": [
       "<Figure size 432x288 with 1 Axes>"
      ]
     },
     "metadata": {
      "needs_background": "light"
     },
     "output_type": "display_data"
    }
   ],
   "source": [
    "for data, target in test_loader:\n",
    "    data, target = data.to(DEVICE), target.to(DEVICE)\n",
    "    output = model(data)\n",
    "    pred = output.max(1, keepdim=True)[1]\n",
    "    incorrect_index = torch.where(torch.squeeze(pred)!=target)\n",
    "    if(len(incorrect_index[0])!=0):\n",
    "        # the incorrect case\n",
    "        print(f'the incorrect case:')\n",
    "        print(f'the label of the data image:{target[incorrect_index[0][0]]}')\n",
    "        print(f'the predict of the data image:{torch.squeeze(pred[incorrect_index[0][0]])}')\n",
    "        print(f'the data image:')\n",
    "        plt.imshow(data[incorrect_index[0][0]].cpu().reshape(28,28), cmap=plt.cm.gray_r)\n",
    "        break"
   ]
  },
  {
   "cell_type": "markdown",
   "metadata": {},
   "source": [
    "MNIST is a very simple data set. Due to its limitations, it can only be used for research purposes and brings very limited value to practical applications. But through this example, we can fully understand the workflow of an actual project\n",
    "\n",
    "We import the data set, preprocess the data, define our model, adjust the hyperparameters, test the training, and then adjust the hyperparameters or adjust the model through the training results.\n",
    "\n",
    "Through this, we already have a good template. Future projects can use this template as an example."
   ]
  },
  {
   "cell_type": "code",
   "execution_count": null,
   "metadata": {},
   "outputs": [],
   "source": []
  }
 ],
 "metadata": {
  "kernelspec": {
   "display_name": "Python 3",
   "language": "python",
   "name": "python3"
  },
  "language_info": {
   "codemirror_mode": {
    "name": "ipython",
    "version": 3
   },
   "file_extension": ".py",
   "mimetype": "text/x-python",
   "name": "python",
   "nbconvert_exporter": "python",
   "pygments_lexer": "ipython3",
   "version": "3.8.5"
  }
 },
 "nbformat": 4,
 "nbformat_minor": 2
}
