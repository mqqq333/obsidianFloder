{
  "cells": [
    {
      "cell_type": "markdown",
      "metadata": {
        "id": "fcCNZz7gi5Ci"
      },
      "source": [
        "# Using Scikit-Learn Neural Network Class to classify MNIST\n"
      ]
    },
    {
      "cell_type": "markdown",
      "metadata": {
        "id": "mV0k6NPZi5Cj"
      },
      "source": [
        "# About\n",
        "\n",
        "Yann LeCun's MNIST is the most \"used\" dataset in Machine Learning I believe, lot's ML/DL practitioner will use it as the \"Hello World\" problem in Machine Learning, it's old, but golden, Even [Geoffrey Hinton's Capsule Network](https://en.wikipedia.org/wiki/Capsule_neural_network) also using MNIST as testing.\n",
        "\n",
        "Most the tutorial online will guide the learner to use TensorFlow or Keras or PyTorch library to tackle MNIST problem, but actually it's not necessary， there's multiple solution for a single problem, we can tackle MNIST problem by \"Pure\" Python code, crafting the algorithm from scratch, or using the convential Machine Learning Library [Scikit-Learn](https://scikit-learn.org/stable/) `MLPClassifier`"
      ]
    },
    {
      "cell_type": "code",
      "execution_count": 33,
      "metadata": {
        "id": "9ofksERIi5Cj"
      },
      "outputs": [],
      "source": [
        "import warnings\n",
        "import matplotlib.pyplot as plt\n",
        "import numpy as np\n",
        "from sklearn.datasets import fetch_openml\n",
        "from sklearn.exceptions import ConvergenceWarning\n",
        "from sklearn.neural_network import MLPClassifier"
      ]
    },
    {
      "cell_type": "code",
      "execution_count": 34,
      "metadata": {
        "colab": {
          "base_uri": "https://localhost:8080/"
        },
        "id": "vs847KXhi5Cj",
        "outputId": "5fe8846a-d227-422f-bd74-d808b498c7b5"
      },
      "outputs": [
        {
          "output_type": "stream",
          "name": "stderr",
          "text": [
            "/usr/local/lib/python3.10/dist-packages/sklearn/datasets/_openml.py:968: FutureWarning: The default value of `parser` will change from `'liac-arff'` to `'auto'` in 1.4. You can set `parser='auto'` to silence this warning. Therefore, an `ImportError` will be raised from 1.4 if the dataset is dense and pandas is not installed. Note that the pandas parser may return different data types. See the Notes Section in fetch_openml's API doc for details.\n",
            "  warn(\n"
          ]
        }
      ],
      "source": [
        "# load the data from https://www.openml.org/d/554\n",
        "X, y = fetch_openml('mnist_784', version=1, return_X_y=True)\n",
        "X, y = X.values, y.values\n",
        "\n",
        "# use the traditional train/test split\n",
        "X_train, X_test = X[:60000], X[60000:]\n",
        "y_train, y_test = y[:60000], y[60000:]"
      ]
    },
    {
      "cell_type": "markdown",
      "metadata": {
        "id": "37pGq-6pi5Cj"
      },
      "source": [
        "Let's visualize MNIST first"
      ]
    },
    {
      "cell_type": "code",
      "execution_count": 35,
      "metadata": {
        "colab": {
          "base_uri": "https://localhost:8080/",
          "height": 484
        },
        "id": "VmwwYWUki5Cj",
        "outputId": "6e5bdde9-29a6-4af9-da7f-dde3099dd1e2"
      },
      "outputs": [
        {
          "output_type": "stream",
          "name": "stdout",
          "text": [
            "the label of the first data image:5\n",
            "first data image:\n"
          ]
        },
        {
          "output_type": "execute_result",
          "data": {
            "text/plain": [
              "<matplotlib.image.AxesImage at 0x7e2f0a57f3d0>"
            ]
          },
          "metadata": {},
          "execution_count": 35
        },
        {
          "output_type": "display_data",
          "data": {
            "text/plain": [
              "<Figure size 640x480 with 1 Axes>"
            ],
            "image/png": "[encoded data removed]"
          },
          "metadata": {}
        }
      ],
      "source": [
        "print(f'the label of the first data image:{y[0]}')\n",
        "print(f'first data image:')\n",
        "plt.imshow(X[0].reshape(28,28), cmap=plt.cm.gray_r)"
      ]
    },
    {
      "cell_type": "markdown",
      "metadata": {
        "id": "jlv1Hwani5Cj"
      },
      "source": [
        "Next we going to bulid a single hidden layer MLP model"
      ]
    },
    {
      "cell_type": "code",
      "execution_count": 36,
      "metadata": {
        "id": "aFlwd9DYi5Cj"
      },
      "outputs": [],
      "source": [
        "mlp = MLPClassifier(hidden_layer_sizes=(50, ), max_iter=10, alpha=1e-4,\n",
        "                    solver='sgd', verbose=10, random_state=1, learning_rate_init=.1)# solver here is equal to the optimizer"
      ]
    },
    {
      "cell_type": "code",
      "execution_count": 37,
      "metadata": {
        "colab": {
          "base_uri": "https://localhost:8080/"
        },
        "id": "TSOcQMS2i5Cj",
        "outputId": "81b227b4-67e0-42e7-fa63-736d1d19bbbc"
      },
      "outputs": [
        {
          "output_type": "stream",
          "name": "stdout",
          "text": [
            "Iteration 1, loss = 88770.42594147\n",
            "Iteration 2, loss = 94144.72785948\n",
            "Iteration 3, loss = 94116.48942606\n",
            "Iteration 4, loss = 94088.25915097\n",
            "Iteration 5, loss = 94060.03773325\n",
            "Iteration 6, loss = 94031.82434269\n",
            "Iteration 7, loss = 94003.61939577\n",
            "Iteration 8, loss = 93975.42334401\n",
            "Iteration 9, loss = 93947.23547037\n",
            "Iteration 10, loss = 93919.05614157\n"
          ]
        }
      ],
      "source": [
        "# start the training\n",
        "with warnings.catch_warnings():\n",
        "    warnings.filterwarnings(\"ignore\", category=ConvergenceWarning, module=\"sklearn\")\n",
        "    mlp.fit(X_train, y_train)#use the method \"fit\" to start the training"
      ]
    },
    {
      "cell_type": "markdown",
      "metadata": {
        "id": "OQgQfpAPi5Cj"
      },
      "source": [
        "Obviously the loss is abnormal, is because we didn't scale the data.(This process is called Normalization.More details here https://zhuanlan.zhihu.com/p/33173246(Chinese) or https://medium.com/nerd-for-tech/overview-of-normalization-techniques-in-deep-learning-e12a79060daf(English))"
      ]
    },
    {
      "cell_type": "code",
      "execution_count": 38,
      "metadata": {
        "id": "qqHmzhWei5Cj"
      },
      "outputs": [],
      "source": [
        "X = X / 255."
      ]
    },
    {
      "cell_type": "code",
      "execution_count": 39,
      "metadata": {
        "id": "-G27rBWpi5Cj"
      },
      "outputs": [],
      "source": [
        "# use the traditional train/test split\n",
        "X_train, X_test = X[:60000], X[60000:]\n",
        "y_train, y_test = y[:60000], y[60000:]"
      ]
    },
    {
      "cell_type": "code",
      "execution_count": 40,
      "metadata": {
        "colab": {
          "base_uri": "https://localhost:8080/"
        },
        "id": "c4PgsdRei5Cj",
        "outputId": "fb1d6254-1f84-47d8-bc8d-c7239e29d848"
      },
      "outputs": [
        {
          "output_type": "stream",
          "name": "stdout",
          "text": [
            "Iteration 1, loss = 0.32009978\n",
            "Iteration 2, loss = 0.15347534\n",
            "Iteration 3, loss = 0.11544755\n",
            "Iteration 4, loss = 0.09279764\n",
            "Iteration 5, loss = 0.07889367\n",
            "Iteration 6, loss = 0.07170497\n",
            "Iteration 7, loss = 0.06282111\n",
            "Iteration 8, loss = 0.05530788\n",
            "Iteration 9, loss = 0.04960484\n",
            "Iteration 10, loss = 0.04645355\n"
          ]
        }
      ],
      "source": [
        "with warnings.catch_warnings():\n",
        "    warnings.filterwarnings(\"ignore\", category=ConvergenceWarning, module=\"sklearn\")\n",
        "    mlp.fit(X_train, y_train)"
      ]
    },
    {
      "cell_type": "code",
      "execution_count": 41,
      "metadata": {
        "colab": {
          "base_uri": "https://localhost:8080/"
        },
        "id": "W__hveJOi5Cj",
        "outputId": "386e87b6-9f3d-4206-d4cc-aac63c982188"
      },
      "outputs": [
        {
          "output_type": "stream",
          "name": "stdout",
          "text": [
            "Training set score: 0.987\n",
            "Test set score: 0.970\n"
          ]
        }
      ],
      "source": [
        "print(f\"Training set score: {mlp.score(X_train, y_train):.3f}\")\n",
        "print(f\"Test set score: {mlp.score(X_test, y_test):.3f}\")"
      ]
    },
    {
      "cell_type": "markdown",
      "metadata": {
        "id": "pfm-osfdi5Cj"
      },
      "source": [
        "Now let's visualize our predicted results and the groundtruth"
      ]
    },
    {
      "cell_type": "code",
      "execution_count": 42,
      "metadata": {
        "colab": {
          "base_uri": "https://localhost:8080/",
          "height": 519
        },
        "id": "QFjQU676i5Cj",
        "outputId": "f10922ef-ed9a-4140-864f-3977b5d72160"
      },
      "outputs": [
        {
          "output_type": "stream",
          "name": "stdout",
          "text": [
            "the correct case:\n",
            "the label of the data image:7\n",
            "the predict of the data image:7\n",
            "the data image:\n"
          ]
        },
        {
          "output_type": "execute_result",
          "data": {
            "text/plain": [
              "<matplotlib.image.AxesImage at 0x7e2f0a4be980>"
            ]
          },
          "metadata": {},
          "execution_count": 42
        },
        {
          "output_type": "display_data",
          "data": {
            "text/plain": [
              "<Figure size 640x480 with 1 Axes>"
            ],
            "image/png": "[encoded data removed]"
          },
          "metadata": {}
        }
      ],
      "source": [
        "compare = (y_test==mlp.predict(X_test))\n",
        "correct_index = np.where(compare==True)\n",
        "incorrect_index = np.where(compare==False)\n",
        "# the correct case\n",
        "print(f'the correct case:')\n",
        "print(f'the label of the data image:{y_test[correct_index[0][0]]}')\n",
        "print(f'the predict of the data image:{mlp.predict(X_test)[correct_index[0][0]]}')\n",
        "print(f'the data image:')\n",
        "plt.imshow(X_test[correct_index[0][0]].reshape(28,28), cmap=plt.cm.gray_r)\n"
      ]
    },
    {
      "cell_type": "code",
      "execution_count": 45,
      "metadata": {
        "colab": {
          "base_uri": "https://localhost:8080/",
          "height": 519
        },
        "id": "Pa1VWUQKi5Cj",
        "outputId": "d1990b58-17fc-464d-ae0d-64a54a72e6c6"
      },
      "outputs": [
        {
          "output_type": "stream",
          "name": "stdout",
          "text": [
            "the incorrect case:\n",
            "the label of the data image:8\n",
            "the predict of the data image:2\n",
            "the data image:\n"
          ]
        },
        {
          "output_type": "execute_result",
          "data": {
            "text/plain": [
              "<matplotlib.image.AxesImage at 0x7e2eeb81bac0>"
            ]
          },
          "metadata": {},
          "execution_count": 45
        },
        {
          "output_type": "display_data",
          "data": {
            "text/plain": [
              "<Figure size 640x480 with 1 Axes>"
            ],
            "image/png": "[encoded data removed]"
          },
          "metadata": {}
        }
      ],
      "source": [
        "# the incorrect case\n",
        "print(f'the incorrect case:')\n",
        "print(f'the label of the data image:{y_test[incorrect_index[0][0]]}')\n",
        "print(f'the predict of the data image:{mlp.predict(X_test)[incorrect_index[0][0]]}')\n",
        "print(f'the data image:')\n",
        "plt.imshow(X_test[incorrect_index[0][20]].reshape(28,28), cmap=plt.cm.gray_r)"
      ]
    },
    {
      "cell_type": "code",
      "execution_count": 43,
      "metadata": {
        "id": "fywbfC3Oi5Ck"
      },
      "outputs": [],
      "source": []
    }
  ],
  "metadata": {
    "file_extension": ".py",
    "kernelspec": {
      "display_name": "Python 3",
      "language": "python",
      "name": "python3"
    },
    "language_info": {
      "codemirror_mode": {
        "name": "ipython",
        "version": 3
      },
      "file_extension": ".py",
      "mimetype": "text/x-python",
      "name": "python",
      "nbconvert_exporter": "python",
      "pygments_lexer": "ipython3",
      "version": "3.8.5"
    },
    "mimetype": "text/x-python",
    "name": "python",
    "npconvert_exporter": "python",
    "pygments_lexer": "ipython3",
    "version": 3,
    "colab": {
      "provenance": []
    }
  },
  "nbformat": 4,
  "nbformat_minor": 0
}